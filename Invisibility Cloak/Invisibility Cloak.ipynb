{
 "cells": [
  {
   "cell_type": "code",
   "execution_count": 1,
   "metadata": {},
   "outputs": [],
   "source": [
    "#importing Libraries\n",
    "import numpy as np\n",
    "import cv2\n",
    "import time"
   ]
  },
  {
   "cell_type": "code",
   "execution_count": 2,
   "metadata": {},
   "outputs": [],
   "source": [
    "capture=cv2.VideoCapture(0)\n",
    "width=int(capture.get(3))\n",
    "height=int(capture.get(4))\n",
    "out = cv2.VideoWriter('output.avi',cv2.VideoWriter_fourcc('M','J','P','G'), 10, (width,height))\n",
    "time.sleep(3)\n",
    "count=0\n",
    "background=0\n",
    "for i in range(60):\n",
    "    ret_val,background=capture.read()\n",
    "background=np.flip(background,axis=1)\n",
    "while(capture.isOpened()):\n",
    "    ret_val,video=capture.read()\n",
    "    if not ret_val:\n",
    "        break\n",
    "    count+=1\n",
    "    video=np.flip(video,axis=1)\n",
    "    hsv=cv2.cvtColor(video,cv2.COLOR_BGR2HSV)\n",
    "    lower_red = np.array([0, 120, 50])\n",
    "    upper_red = np.array([10, 255,255])\n",
    "    mask1 = cv2.inRange(hsv, lower_red, upper_red)\n",
    "    lower_red = np.array([100, 40, 40])        \n",
    "    upper_red = np.array([100, 255, 255]) \n",
    "    mask1 = cv2.inRange(hsv, lower_red, upper_red) \n",
    "    # setting the lower and upper range for mask2  \n",
    "    lower_red = np.array([155, 40, 40]) \n",
    "    upper_red = np.array([180, 255, 255]) \n",
    "    mask2 = cv2.inRange(hsv, lower_red, upper_red) \n",
    "    mask1 = mask1 + mask2 \n",
    "    mask1 = cv2.morphologyEx(mask1, cv2.MORPH_OPEN, np.ones((3, 3), \n",
    "                                         np.uint8), iterations = 2) \n",
    "    mask1 = cv2.dilate(mask1, np.ones((3, 3), np.uint8), iterations = 1) \n",
    "    mask2 = cv2.bitwise_not(mask1) \n",
    "    res1 = cv2.bitwise_and(background, background, mask = mask1) \n",
    "    res2 = cv2.bitwise_and(video, video, mask = mask2) \n",
    "    final_output = cv2.addWeighted(res1, 1, res2, 1, 0) \n",
    "    out.write(final_output)\n",
    "    cv2.imshow(\"INVISIBLE MAN\", final_output) \n",
    "    k = cv2.waitKey(1) \n",
    "    if k == 27: \n",
    "        break\n",
    "\n",
    "\n",
    "capture.release()\n",
    "out.release()\n",
    "cv2.destroyAllWindows()\n",
    "    "
   ]
  }
 ],
 "metadata": {
  "kernelspec": {
   "display_name": "Python 3",
   "language": "python",
   "name": "python3"
  },
  "language_info": {
   "codemirror_mode": {
    "name": "ipython",
    "version": 3
   },
   "file_extension": ".py",
   "mimetype": "text/x-python",
   "name": "python",
   "nbconvert_exporter": "python",
   "pygments_lexer": "ipython3",
   "version": "3.7.7"
  },
  "latex_envs": {
   "LaTeX_envs_menu_present": true,
   "autoclose": false,
   "autocomplete": true,
   "bibliofile": "biblio.bib",
   "cite_by": "apalike",
   "current_citInitial": 1,
   "eqLabelWithNumbers": true,
   "eqNumInitial": 1,
   "hotkeys": {
    "equation": "Ctrl-E",
    "itemize": "Ctrl-I"
   },
   "labels_anchors": false,
   "latex_user_defs": false,
   "report_style_numbering": false,
   "user_envs_cfg": false
  }
 },
 "nbformat": 4,
 "nbformat_minor": 4
}
